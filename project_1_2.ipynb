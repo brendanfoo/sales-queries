{
 "cells": [
  {
   "cell_type": "markdown",
   "id": "92a50c7a",
   "metadata": {},
   "source": [
    "# Project 1, Part 2, Customer Related Queries\n",
    "\n"
   ]
  },
  {
   "cell_type": "markdown",
   "id": "f4898aad",
   "metadata": {},
   "source": [
    "# Included Modules and Packages\n",
    "\n",
    "Code cell containing your includes for modules and packages"
   ]
  },
  {
   "cell_type": "code",
   "execution_count": null,
   "id": "bae3c88f",
   "metadata": {},
   "outputs": [],
   "source": [
    "import math\n",
    "import numpy as np\n",
    "import pandas as pd\n",
    "\n",
    "import psycopg2"
   ]
  },
  {
   "cell_type": "markdown",
   "id": "ce2bac90",
   "metadata": {},
   "source": [
    "# Supporting code\n",
    "\n",
    "Code cells containing any supporting code, such as connecting to the database, any functions, etc.  Remember you can use any code from the labs."
   ]
  },
  {
   "cell_type": "code",
   "execution_count": null,
   "id": "167d76ef",
   "metadata": {},
   "outputs": [],
   "source": [
    "#\n",
    "# function to run a select query and return rows in a pandas dataframe\n",
    "# pandas puts all numeric values from postgres to float\n",
    "# if it will fit in an integer, change it to integer\n",
    "#\n",
    "\n",
    "def my_select_query_pandas(query, rollback_before_flag, rollback_after_flag):\n",
    "    \"function to run a select query and return rows in a pandas dataframe\"\n",
    "    \n",
    "    if rollback_before_flag:\n",
    "        connection.rollback()\n",
    "    \n",
    "    df = pd.read_sql_query(query, connection)\n",
    "    \n",
    "    if rollback_after_flag:\n",
    "        connection.rollback()\n",
    "    \n",
    "    # fix the float columns that really should be integers\n",
    "    \n",
    "    for column in df:\n",
    "    \n",
    "        if df[column].dtype == \"float64\":\n",
    "\n",
    "            fraction_flag = False\n",
    "\n",
    "            for value in df[column].values:\n",
    "                \n",
    "                if not np.isnan(value):\n",
    "                    if value - math.floor(value) != 0:\n",
    "                        fraction_flag = True\n",
    "\n",
    "            if not fraction_flag:\n",
    "                df[column] = df[column].astype('Int64')\n",
    "    \n",
    "    return(df)\n",
    "    "
   ]
  },
  {
   "cell_type": "code",
   "execution_count": null,
   "id": "1ba50f64",
   "metadata": {},
   "outputs": [],
   "source": [
    "connection = psycopg2.connect(\n",
    "    user = \"postgres\",\n",
    "    password = \"ucb\",\n",
    "    host = \"postgres\",\n",
    "    port = \"5432\",\n",
    "    database = \"postgres\"\n",
    ")"
   ]
  },
  {
   "cell_type": "markdown",
   "id": "4dca2e89",
   "metadata": {},
   "source": [
    "# 1.2.1 Total Number of Customers for all of AGM\n",
    "\n",
    "Each record in the customer table is an individual customer.\n",
    "\n",
    "Write 1 and only 1 query.  Note that the query may have as many subqueries, including \"with\" clauses, as you wish.  \n",
    "\n",
    "Name column headers exactly as shown in the example below. \n",
    "\n",
    "Format data exactly as shown in the example below.\n",
    "\n",
    "Ensure that when you check this Juptyer Notebook into GitHub that the query results in the Pandas dataframe are clearly visible in GitHub.\n",
    "\n",
    "The query should return only 1 row into a Pandas dataframe and should look similar to this: \n",
    "\n",
    "||total_number_of_customers|\n",
    "|---|---|\n",
    "|0|31082|"
   ]
  },
  {
   "cell_type": "code",
   "execution_count": null,
   "id": "ec6ec3f1",
   "metadata": {},
   "outputs": [],
   "source": [
    "rollback_before_flag = True\n",
    "rollback_after_flag = True\n",
    "\n",
    "query = \"\"\"\n",
    "\n",
    "Replace with your SQL query\n",
    "\n",
    "\"\"\"\n",
    "\n",
    "df = my_select_query_pandas(query, rollback_before_flag, rollback_after_flag)\n",
    "df"
   ]
  },
  {
   "cell_type": "markdown",
   "id": "3a75a7ee",
   "metadata": {},
   "source": [
    "# 1.2.2 Total Number of Customers by Store\n",
    "\n",
    "Each record in the customer table is an individual customer.  \n",
    "\n",
    "Use the customer's closest_store_id to decide which store they belong to.\n",
    "\n",
    "For store_name use the store's city.\n",
    "\n",
    "Sort by store_name in alphabetical order.\n",
    "\n",
    "Write 1 and only 1 query.  Note that the query may have as many subqueries, including \"with\" clauses, as you wish.  \n",
    "\n",
    "Name column headers exactly as shown in the example below. \n",
    "\n",
    "Format data exactly as shown in the example below.\n",
    "\n",
    "Ensure that when you check this Juptyer Notebook into GitHub that the query results in the Pandas dataframe are clearly visible in GitHub.\n",
    "\n",
    "The query should return 5 rows into a Pandas dataframe. The first and last rows should look similar to this: \n",
    "\n",
    "||store_name|total_number_of_customers|\n",
    "|---|---|---|\n",
    "|0|Berkeley|8138|\n",
    "|...|...|...|\n",
    "|4|Seattle|7214|"
   ]
  },
  {
   "cell_type": "code",
   "execution_count": null,
   "id": "c7b6cb1d",
   "metadata": {},
   "outputs": [],
   "source": [
    "rollback_before_flag = True\n",
    "rollback_after_flag = True\n",
    "\n",
    "query = \"\"\"\n",
    "\n",
    "Replace with your SQL query\n",
    "\n",
    "\"\"\"\n",
    "\n",
    "df = my_select_query_pandas(query, rollback_before_flag, rollback_after_flag)\n",
    "df"
   ]
  },
  {
   "cell_type": "markdown",
   "id": "b6e5cc18",
   "metadata": {},
   "source": [
    "# 1.2.3 List of Customers who have signed up but not bought anything\n",
    "\n",
    "Each record in the customer table is an individual customer.  \n",
    "\n",
    "Find all customers who are in the customers table but don't have any sales in the sales table.  \n",
    "\n",
    "Sort by customer last_name, then first_name\n",
    "\n",
    "Write 1 and only 1 query.  Note that the query may have as many subqueries, including \"with\" clauses, as you wish.  \n",
    "\n",
    "Name column headers exactly as shown in the example below. \n",
    "\n",
    "Format data exactly as shown in the example below.\n",
    "\n",
    "Ensure that when you check this Juptyer Notebook into GitHub that the query results in the Pandas dataframe are clearly visible in GitHub.\n",
    "\n",
    "The query should return 35 rows into a Pandas dataframe. The first and last rows should look similar to this: \n",
    "\n",
    "||last_name|first_name|\n",
    "|---|---|---|\n",
    "|0|Agott|Tracy|\n",
    "|...|...|...|\n",
    "|34|Vedekhin|Cyrill|"
   ]
  },
  {
   "cell_type": "code",
   "execution_count": null,
   "id": "1eb90f14",
   "metadata": {},
   "outputs": [],
   "source": [
    "rollback_before_flag = True\n",
    "rollback_after_flag = True\n",
    "\n",
    "query = \"\"\"\n",
    "\n",
    "Replace with your SQL query\n",
    "\n",
    "\"\"\"\n",
    "\n",
    "df = my_select_query_pandas(query, rollback_before_flag, rollback_after_flag)\n",
    "df"
   ]
  },
  {
   "cell_type": "markdown",
   "id": "677a8137",
   "metadata": {},
   "source": [
    "# 1.2.4 What is the percentage of customers per population at the zip code level?\n",
    "\n",
    "Each record in the customer table is an individual customer.  \n",
    "\n",
    "Use the customer's zip code (not the store's zip code). \n",
    "\n",
    "Use the zip_code table in the secondary dataset to find the population in that zip code.\n",
    "\n",
    "Sort by highest percentage first.  Note that we are rouding to 3 decimal place for display, but note that you may need to sort on values that are not rounded.\n",
    "\n",
    "**Note: When a query result has a large number of rows, Pandas will only display the first 5 rows, a row with ellipses, and the last 5 rows. This is ok.**\n",
    "\n",
    "**Note: the reference output is in Markdown which drops trailing zeros.  Pandas does not drop trailing zeros.  This is ok.**\n",
    "\n",
    "The query should return 550 rows into a Pandas dataframe. The first and last rows should look similar to this: \n",
    "\n",
    "||zip|percentage_customers_per_population|\n",
    "|---|---|---|\n",
    "|0|98164|1.29|\n",
    "|...|...|...|\n",
    "|549|75034|0.001|"
   ]
  },
  {
   "cell_type": "code",
   "execution_count": null,
   "id": "484d915f",
   "metadata": {},
   "outputs": [],
   "source": [
    "rollback_before_flag = True\n",
    "rollback_after_flag = True\n",
    "\n",
    "query = \"\"\"\n",
    "\n",
    "Replace with your SQL query\n",
    "\n",
    "\"\"\"\n",
    "\n",
    "df = my_select_query_pandas(query, rollback_before_flag, rollback_after_flag)\n",
    "df"
   ]
  },
  {
   "cell_type": "code",
   "execution_count": null,
   "id": "542ad39f",
   "metadata": {},
   "outputs": [],
   "source": []
  }
 ],
 "metadata": {
  "kernelspec": {
   "display_name": "Python 3 (ipykernel)",
   "language": "python",
   "name": "python3"
  },
  "language_info": {
   "codemirror_mode": {
    "name": "ipython",
    "version": 3
   },
   "file_extension": ".py",
   "mimetype": "text/x-python",
   "name": "python",
   "nbconvert_exporter": "python",
   "pygments_lexer": "ipython3",
   "version": "3.9.7"
  }
 },
 "nbformat": 4,
 "nbformat_minor": 5
}

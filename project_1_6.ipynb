{
 "cells": [
  {
   "cell_type": "markdown",
   "id": "cd11da2a",
   "metadata": {},
   "source": [
    "# Project 1, Part 6, Identifying Best Customers\n"
   ]
  },
  {
   "cell_type": "markdown",
   "id": "701f1c25",
   "metadata": {},
   "source": [
    "# 1.6 Ideas on how the sales data can be used to help identify best customers\n",
    "\n",
    "The data science team would like to know your best ideas on how the sales data can be used to help identify the company's best customers.\n",
    "\n",
    "\n",
    "\n",
    "They are going to start with the most common and most basic model known as RFM, which consists of the 3 dimensions.\n",
    "\n",
    "* R - Recency - How recently did the customer purchase?\n",
    "\n",
    "* F - Frequency - How often do they purchase?\n",
    "\n",
    "* M - Monetary Value - How much do they spend?\n",
    "\n",
    "\n",
    "\n",
    "At first glance, it's pretty easy to think of a simple query for each dimension.\n",
    "\n",
    "However, after some thought, it's not quite so easy. It's very open ended, with a lot of grey areas, and no single right or wrong answer (just like 99% of data science and AI!)  For each dimension, there can be some pretty complex ways to determine.\n",
    "\n",
    "The data science team also has to come up with a way to synthesize the 3 dimensions into a single customer value for each customer.\n",
    "\n",
    "\n",
    "\n",
    "The data science team would like for you to present your ideas in the form of a title and 4 paragraphs as follows:\n",
    "\n",
    "* Title - A title describing what you will be explaining\n",
    "\n",
    "* Recency - A brief paragraph explaining your ideas on how the data can be used to determine recency.  \n",
    "\n",
    "* Frequency - A brief paragraph explaining your ideas on how the data can be used to determine frequency.\n",
    "\n",
    "* Monetary Value - A brief paragraph explaining your ideas on how the data can be used to determine monetary value.\n",
    "\n",
    "* Synthesis - A brief paragraph explaining your ideas on how to synthesize the 3 dimensions of recency, frequency, and monetary value into a customer value for each customer and how to determine who the best customers are.\n",
    "\n",
    "\n",
    "\n",
    "Put the title and all 4 paragraphs in a single markdown cell.\n",
    "\n",
    "Note that you do not write code for this, only english language descriptions of your ideas.\n",
    "\n"
   ]
  },
  {
   "cell_type": "markdown",
   "id": "7754519d",
   "metadata": {},
   "source": [
    "## Creating Customers Tiered Lists based on Three Metrics\n",
    "\n",
    "Recency - How recently did the customer purchase?\n",
    "\n",
    "In order to determine how recent a customer has purchased, we need to look at both our sales as well as our customer data. With our sales data, it ocntains customer_id, which would then allow us to pull up information about their first and last name through our customers dataset. Through this matching, we can also see which store they went to, the total amount they spent during that trip, and which day they went. Of course, if there are duplicates, we can simply group our queries and pick the most recent date, which would then give us the most recent date a customer purchased from us.\n",
    "\n",
    "Frequency - How often do they purchase?\n",
    "\n",
    "Very similar to the first question where we join our two datasets: customers and sales. This would give us information on the store they went to, the total amount they spent during that trip, and which day they went. To answer this question, rather than pick the most recent date of their purchase, we simply count the number of times they purchase from us. Since each sale id is unique, we can count this variable to determine the frequency of their visits/purchasing, which would allow us to answer this question.\n",
    "\n",
    "Monetary Value - How much do they spend?\n",
    "\n",
    "We also apply a similar process by combining both customers and sales datasets. This would give us information on the store they went to, the total amount they spent during that trip, and which day they went. To determine how much they spend, we can first determine the total amount they have spent with us thus far by simply summing up their total amounts from each trip to final summation, or we can average the total amount to see their average spending. Both would give us insights for each customer and may also inform future business strategies.\n",
    "\n",
    "Synthesis - Synthesize recency, frequency, and monetary value\n",
    "\n",
    "Through said methods above where we can determine the most recent date the customer has purchased, how frequency they buy from us, and how much they spend, this will help us determine a \"customer score\", or determine which ones are our most loyal customers based on frequency of visit or VIPs based on amount they spend. For example, a customer may come shop with us often but not spend much, whereas another customer could come to us occassionally but spend a lot. We can use these information to determine total amounts they have spent with us. Based on this, we can put our customers into tiered lists where the higher their \"score\", the higher they are on the tiered list. Different tiers can receive different benefits, for example, the more they spend with us, the more promotions/discounts are offered to them and exclusive prizes could also be earned. Frequency of visits could help us determine better products to offer to them since we have more information in this regard. We can then look at recency of their purchase and determine activity of the customers. If the customer hasn't been shopping with us for awhile, AGM could send them a nudge or an email reminding them of upcoming promotions and offer them exclusive promotions to continue receiving business from them."
   ]
  },
  {
   "cell_type": "code",
   "execution_count": null,
   "id": "e8f7f47b",
   "metadata": {},
   "outputs": [],
   "source": []
  }
 ],
 "metadata": {
  "kernelspec": {
   "display_name": "Python 3 (ipykernel)",
   "language": "python",
   "name": "python3"
  },
  "language_info": {
   "codemirror_mode": {
    "name": "ipython",
    "version": 3
   },
   "file_extension": ".py",
   "mimetype": "text/x-python",
   "name": "python",
   "nbconvert_exporter": "python",
   "pygments_lexer": "ipython3",
   "version": "3.9.7"
  }
 },
 "nbformat": 4,
 "nbformat_minor": 5
}
